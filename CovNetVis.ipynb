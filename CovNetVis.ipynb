{
 "cells": [
  {
   "cell_type": "code",
   "execution_count": 1,
   "metadata": {
    "collapsed": true
   },
   "outputs": [],
   "source": [
    "import vis"
   ]
  },
  {
   "cell_type": "code",
   "execution_count": 15,
   "metadata": {},
   "outputs": [
    {
     "name": "stdout",
     "output_type": "stream",
     "text": [
      "_________________________________________________________________\nLayer (type)                 Output Shape              Param #   \n=================================================================\nlambda_1 (Lambda)            (None, 16, 32, 1)         0         \n_________________________________________________________________\nconv2d_1 (Conv2D)            (None, 14, 30, 8)         80        \n_________________________________________________________________\nactivation_1 (Activation)    (None, 14, 30, 8)         0         \n_________________________________________________________________\nmax_pooling2d_1 (MaxPooling2 (None, 7, 15, 8)          0         \n_________________________________________________________________\nconv2d_2 (Conv2D)            (None, 5, 13, 8)          584       \n_________________________________________________________________\nactivation_2 (Activation)    (None, 5, 13, 8)          0         \n_________________________________________________________________\nmax_pooling2d_2 (MaxPooling2 (None, 2, 6, 8)           0         \n_________________________________________________________________\ndropout_1 (Dropout)          (None, 2, 6, 8)           0         \n_________________________________________________________________\nflatten_1 (Flatten)          (None, 96)                0         \n_________________________________________________________________\ndense_1 (Dense)              (None, 50)                4850      \n_________________________________________________________________\nactivation_3 (Activation)    (None, 50)                0         \n_________________________________________________________________\ndense_2 (Dense)              (None, 1)                 51        \n=================================================================\nTotal params: 5,565\nTrainable params: 4,901\nNon-trainable params: 664\n_________________________________________________________________\n"
     ]
    }
   ],
   "source": [
    "from keras.models import model_from_json\n",
    "\n",
    "# the name of the file containg model.\n",
    "# x.json.. x.h5 must must the weights\n",
    "model_file = 'model4.json'\n",
    "\n",
    "with open(model_file, 'r') as jfile:\n",
    "    # NOTE: if you saved the file by calling json.dump(model.to_json(), ...)\n",
    "    # then you will have to call:\n",
    "    #\n",
    "    # model = model_from_json(json.loads(jfile.read()))\n",
    "    #\n",
    "    # instead.\n",
    "    model = model_from_json(jfile.read())\n",
    "\n",
    "model.compile(\"adam\", \"mse\")\n",
    "weights_file = model_file.replace('json', 'h5')\n",
    "model.load_weights(weights_file)\n",
    "model.summary()"
   ]
  },
  {
   "cell_type": "code",
   "execution_count": 17,
   "metadata": {},
   "outputs": [],
   "source": [
    "from vis.visualization import visualize_activation\n",
    "from vis.utils import utils\n",
    "from keras import activations\n",
    "from matplotlib import pyplot as plt\n",
    "%matplotlib inline"
   ]
  },
  {
   "cell_type": "code",
   "execution_count": 19,
   "metadata": {},
   "outputs": [],
   "source": [
    "# Swap softmax with linear\n",
    "layer_id = 3\n",
    "model.layers[layer_id].activation = activations.linear\n",
    "model = utils.apply_modifications(model)"
   ]
  },
  {
   "cell_type": "code",
   "execution_count": 20,
   "metadata": {},
   "outputs": [
    {
     "data": {
      "text/plain": [
       "<matplotlib.image.AxesImage at 0x7f5fd4ac77d0>"
      ]
     },
     "execution_count": 20,
     "metadata": {},
     "output_type": "execute_result"
    },
    {
     "data": {
      "image/png": "[encoded data removed]",
      "text/plain": [
       "<matplotlib.figure.Figure at 0x7f5fd6cf77d0>"
      ]
     },
     "metadata": {},
     "output_type": "display_data"
    }
   ],
   "source": [
    "filter_idx = 0\n",
    "img = visualize_activation(model, layer_id, filter_indices=filter_idx)\n",
    "plt.imshow(img[..., 0])"
   ]
  },
  {
   "cell_type": "code",
   "execution_count": 15,
   "metadata": {},
   "outputs": [],
   "source": []
  },
  {
   "cell_type": "code",
   "execution_count": null,
   "metadata": {},
   "outputs": [],
   "source": []
  }
 ],
 "metadata": {
  "kernelspec": {
   "display_name": "Python 2",
   "language": "python",
   "name": "python2"
  },
  "language_info": {
   "codemirror_mode": {
    "name": "ipython",
    "version": 2
   },
   "file_extension": ".py",
   "mimetype": "text/x-python",
   "name": "python",
   "nbconvert_exporter": "python",
   "pygments_lexer": "ipython2",
   "version": "2.7.6"
  }
 },
 "nbformat": 4,
 "nbformat_minor": 0
}
